{
 "cells": [
  {
   "cell_type": "markdown",
   "metadata": {},
   "source": [
    "Before you turn this problem in, make sure everything runs as expected. First, **restart the kernel** (in the menubar, select Kernel$\\rightarrow$Restart) and then **run all cells** (in the menubar, select Cell$\\rightarrow$Run All).\n",
    "\n",
    "Make sure you fill in any place that says `YOUR CODE HERE` or \"YOUR ANSWER HERE\", as well as your name below:"
   ]
  },
  {
   "cell_type": "code",
   "execution_count": 29,
   "metadata": {
    "vscode": {
     "languageId": "ocaml"
    }
   },
   "outputs": [
    {
     "data": {
      "text/plain": [
       "val name : string = \"Kakunuri Shashank Reddy\"\n"
      ]
     },
     "execution_count": 29,
     "metadata": {},
     "output_type": "execute_result"
    },
    {
     "data": {
      "text/plain": [
       "val rollno : string = \"CS21B038\"\n"
      ]
     },
     "execution_count": 29,
     "metadata": {},
     "output_type": "execute_result"
    }
   ],
   "source": [
    "let name = \"Kakunuri Shashank Reddy\"\n",
    "let rollno = \"CS21B038\""
   ]
  },
  {
   "cell_type": "markdown",
   "metadata": {},
   "source": [
    "## Important notes about grading:\n",
    "\n",
    "1. All code you submit must compile. Programs that do not compile will probably receive an automatic zero. If you are having trouble getting your assignment to compile, please contact the TAs or the instructor or visit the course contact hour. If you run out of time, it is better to comment out the parts that do not compile, than hand in a more complete file that does not compile.\n",
    "2. All assignments handed in after the deadline will be considered late, and will consume your grace days. \n",
    "3. Verify on moodle that you have submitted the correct version, before the deadline. Submitting the incorrect version before the deadline and realizing that you have done so after the deadline will be counted as a late submission."
   ]
  },
  {
   "cell_type": "markdown",
   "metadata": {
    "deletable": false,
    "editable": false,
    "nbgrader": {
     "cell_type": "markdown",
     "checksum": "4a482350c4c533e29035f72039d94aec",
     "grade": false,
     "grade_id": "cell-17b894a32de272cd",
     "locked": true,
     "schema_version": 3,
     "solution": false,
     "task": false
    }
   },
   "source": [
    "# Mutability and Modules\n",
    "\n",
    "In this assignment, you will design and implement a couple of mutable data structures and operations on them.\n",
    "\n",
    "## Problem 1\n",
    "\n",
    "Implement structures `IntShowable` and `FloatShowable` that satisfy the following signature. Use `string_of_int: int -> string` and `string_of_float: float -> string` for the corresponding `string_of_t` functions."
   ]
  },
  {
   "cell_type": "code",
   "execution_count": 30,
   "metadata": {
    "deletable": false,
    "editable": false,
    "nbgrader": {
     "cell_type": "code",
     "checksum": "d13973bede139512cdb7efc4f5050e5b",
     "grade": false,
     "grade_id": "cell-04b036908715fddb",
     "locked": true,
     "schema_version": 3,
     "solution": false,
     "task": false
    },
    "vscode": {
     "languageId": "ocaml"
    }
   },
   "outputs": [
    {
     "data": {
      "text/plain": [
       "module type Showable = sig type t val string_of_t : t -> string end\n"
      ]
     },
     "execution_count": 30,
     "metadata": {},
     "output_type": "execute_result"
    }
   ],
   "source": [
    "module type Showable = sig\n",
    "  type t\n",
    "  val string_of_t : t -> string\n",
    "end"
   ]
  },
  {
   "cell_type": "code",
   "execution_count": 31,
   "metadata": {
    "deletable": false,
    "nbgrader": {
     "cell_type": "code",
     "checksum": "027a1ddb4bf2ea2786028bc877812272",
     "grade": false,
     "grade_id": "cell-158d909bf026ab70",
     "locked": false,
     "schema_version": 3,
     "solution": true,
     "task": false
    },
    "vscode": {
     "languageId": "ocaml"
    }
   },
   "outputs": [
    {
     "data": {
      "text/plain": [
       "module IntShowable : sig type t = int val string_of_t : t -> string end\n"
      ]
     },
     "execution_count": 31,
     "metadata": {},
     "output_type": "execute_result"
    },
    {
     "data": {
      "text/plain": [
       "module FloatShowable : sig type t = float val string_of_t : t -> string end\n"
      ]
     },
     "execution_count": 31,
     "metadata": {},
     "output_type": "execute_result"
    }
   ],
   "source": [
    "module IntShowable :  Showable with type t = int = struct\n",
    "    type t = int\n",
    "    let string_of_t t = string_of_int t\n",
    "end\n",
    "module FloatShowable : Showable with type t = float = struct\n",
    "    type t = float\n",
    "    let string_of_t t = string_of_float t\n",
    "end"
   ]
  },
  {
   "cell_type": "code",
   "execution_count": 32,
   "metadata": {
    "deletable": false,
    "editable": false,
    "nbgrader": {
     "cell_type": "code",
     "checksum": "39058e04b028f19189a95569792f8c50",
     "grade": true,
     "grade_id": "cell-e2c519b404ae59d8",
     "locked": true,
     "points": 5,
     "schema_version": 3,
     "solution": false,
     "task": false
    },
    "vscode": {
     "languageId": "ocaml"
    }
   },
   "outputs": [
    {
     "data": {
      "text/plain": [
       "- : unit = ()\n"
      ]
     },
     "execution_count": 32,
     "metadata": {},
     "output_type": "execute_result"
    }
   ],
   "source": [
    "(* 5 points *)\n",
    "assert (IntShowable.string_of_t 10 = \"10\");\n",
    "assert (FloatShowable.string_of_t 0.0 = \"0.\")"
   ]
  },
  {
   "cell_type": "markdown",
   "metadata": {
    "deletable": false,
    "editable": false,
    "nbgrader": {
     "cell_type": "markdown",
     "checksum": "dbfb8259fe213acac10bfc6a201a74b5",
     "grade": false,
     "grade_id": "cell-78af33faae62f0b2",
     "locked": true,
     "schema_version": 3,
     "solution": false,
     "task": false
    }
   },
   "source": [
    "## Problem 2\n",
    "\n",
    "Implement a functor \n",
    "\n",
    "```ocaml\n",
    "module MakeNode : \n",
    "  functor (C : Showable) -> \n",
    "    DoublyLinkedListNode with type content = C.t\n",
    "``` \n",
    "\n",
    "where `DoublyLinkedListNode` is the module type:"
   ]
  },
  {
   "cell_type": "code",
   "execution_count": 33,
   "metadata": {
    "deletable": false,
    "editable": false,
    "nbgrader": {
     "cell_type": "code",
     "checksum": "a7c7884f812bc9763125920539d1d2fb",
     "grade": false,
     "grade_id": "cell-510c52c519be0f60",
     "locked": true,
     "schema_version": 3,
     "solution": false,
     "task": false
    },
    "vscode": {
     "languageId": "ocaml"
    }
   },
   "outputs": [
    {
     "data": {
      "text/plain": [
       "module type DoublyLinkedListNode =\n",
       "  sig\n",
       "    type t\n",
       "    type content\n",
       "    val create : content -> t\n",
       "    val get_next : t -> t option\n",
       "    val get_prev : t -> t option\n",
       "    val get_content : t -> content\n",
       "    val set_next : t -> t option -> unit\n",
       "    val set_prev : t -> t option -> unit\n",
       "    val string_of_content : t -> string\n",
       "  end\n"
      ]
     },
     "execution_count": 33,
     "metadata": {},
     "output_type": "execute_result"
    }
   ],
   "source": [
    "module type DoublyLinkedListNode = sig\n",
    "  type t\n",
    "  (** The type of doubly linked list node *)\n",
    "  \n",
    "  type content\n",
    "  (** The type of content stored in the doubly linked list node *)\n",
    "\n",
    "  val create : content -> t \n",
    "  (** create a new doubly linked list node with [content] as the content. \n",
    "      The next and previous nodes are [None]. *)\n",
    "  \n",
    "  val get_next : t -> t option\n",
    "  (** [get_next t] returns [Some t'] if [t'] is the successor node of [t]. \n",
    "      If [t] has no successor, then return [None] *)\n",
    "      \n",
    "  val get_prev : t -> t option\n",
    "  (** [get_prev t] returns [Some t'] if [t'] is the predecessor node of [t]. \n",
    "      If [t] has no predecessor, then return [None] *)\n",
    "      \n",
    "  val get_content : t -> content\n",
    "  (** [content t] returns the content [c] of node [t] *)\n",
    "      \n",
    "  val set_next : t -> t option -> unit\n",
    "  (** [set_next t t'] updates the next node of [t] to be [t'] *)\n",
    "  \n",
    "  val set_prev : t -> t option -> unit\n",
    "  (** [set_prev t t'] updates the prev node of [t] to be [t'] *)\n",
    "  \n",
    "  val string_of_content : t -> string\n",
    "  (** [string_of_content t] returns the string form of content stored in the node t *)\n",
    "end"
   ]
  },
  {
   "cell_type": "code",
   "execution_count": 34,
   "metadata": {
    "deletable": false,
    "nbgrader": {
     "cell_type": "code",
     "checksum": "6bf3561d92a495c66e37c2fdf3535035",
     "grade": false,
     "grade_id": "cell-ef73360426263f29",
     "locked": false,
     "schema_version": 3,
     "solution": true,
     "task": false
    },
    "scrolled": true,
    "vscode": {
     "languageId": "ocaml"
    }
   },
   "outputs": [
    {
     "data": {
      "text/plain": [
       "module MakeNode :\n",
       "  functor (C : Showable) ->\n",
       "    sig\n",
       "      type t\n",
       "      type content = C.t\n",
       "      val create : content -> t\n",
       "      val get_next : t -> t option\n",
       "      val get_prev : t -> t option\n",
       "      val get_content : t -> content\n",
       "      val set_next : t -> t option -> unit\n",
       "      val set_prev : t -> t option -> unit\n",
       "      val string_of_content : t -> string\n",
       "    end\n"
      ]
     },
     "execution_count": 34,
     "metadata": {},
     "output_type": "execute_result"
    }
   ],
   "source": [
    "(* Implement the functor MakeNode *)\n",
    "module MakeNode (C : Showable) : DoublyLinkedListNode with type content = C.t = struct\n",
    "type t = \n",
    "{\n",
    "    mutable next : t option;\n",
    "    mutable prev : t option;\n",
    "    v : C.t\n",
    "}\n",
    "type content = C.t\n",
    "let create x = {prev = None; next = None; v = x}\n",
    "let get_next node = node.next\n",
    "let get_prev node = node.prev\n",
    "let get_content node = node.v\n",
    "let set_next node1 node2 = node1.next <- node2\n",
    "let set_prev node1 node2 = node1.prev <- node2\n",
    "let string_of_content node = C.string_of_t node.v\n",
    "end"
   ]
  },
  {
   "cell_type": "code",
   "execution_count": 35,
   "metadata": {
    "deletable": false,
    "editable": false,
    "nbgrader": {
     "cell_type": "code",
     "checksum": "691f56b9a1cd9b97ffd012a280e5a7f1",
     "grade": false,
     "grade_id": "cell-a571bf541c8042c1",
     "locked": true,
     "schema_version": 3,
     "solution": false,
     "task": false
    },
    "vscode": {
     "languageId": "ocaml"
    }
   },
   "outputs": [
    {
     "data": {
      "text/plain": [
       "module IntNode :\n",
       "  sig\n",
       "    type t = MakeNode(IntShowable).t\n",
       "    type content = IntShowable.t\n",
       "    val create : content -> t\n",
       "    val get_next : t -> t option\n",
       "    val get_prev : t -> t option\n",
       "    val get_content : t -> content\n",
       "    val set_next : t -> t option -> unit\n",
       "    val set_prev : t -> t option -> unit\n",
       "    val string_of_content : t -> string\n",
       "  end\n"
      ]
     },
     "execution_count": 35,
     "metadata": {},
     "output_type": "execute_result"
    }
   ],
   "source": [
    "module IntNode = MakeNode(IntShowable)"
   ]
  },
  {
   "cell_type": "code",
   "execution_count": 36,
   "metadata": {
    "deletable": false,
    "editable": false,
    "nbgrader": {
     "cell_type": "code",
     "checksum": "3d02132205cf337f1743f8eccc29d7c2",
     "grade": true,
     "grade_id": "cell-33796bd0b9bbeaaa",
     "locked": true,
     "points": 5,
     "schema_version": 3,
     "solution": false,
     "task": false
    },
    "vscode": {
     "languageId": "ocaml"
    }
   },
   "outputs": [
    {
     "data": {
      "text/plain": [
       "- : unit = ()\n"
      ]
     },
     "execution_count": 36,
     "metadata": {},
     "output_type": "execute_result"
    }
   ],
   "source": [
    "(* 5 points *)\n",
    "let open IntNode in \n",
    "let i1 = create 1 in\n",
    "assert (get_content i1 = 1);"
   ]
  },
  {
   "cell_type": "code",
   "execution_count": 37,
   "metadata": {
    "deletable": false,
    "editable": false,
    "nbgrader": {
     "cell_type": "code",
     "checksum": "2e8a61617ae2860e3aa7fc5af50b3a11",
     "grade": true,
     "grade_id": "cell-9ac4ed1728b424da",
     "locked": true,
     "points": 5,
     "schema_version": 3,
     "solution": false,
     "task": false
    },
    "vscode": {
     "languageId": "ocaml"
    }
   },
   "outputs": [
    {
     "data": {
      "text/plain": [
       "- : unit = ()\n"
      ]
     },
     "execution_count": 37,
     "metadata": {},
     "output_type": "execute_result"
    }
   ],
   "source": [
    "(* 5 points *)\n",
    "let open IntNode in \n",
    "let i1,i2,i3 = create 1, create 2, create 3 in\n",
    "set_next i1 @@ Some i2;\n",
    "set_next i2 @@ Some i3;\n",
    "set_prev i2 @@ Some i1;\n",
    "set_prev i3 @@ Some i2;\n",
    "let _ = assert (match get_next i1 with None -> false | Some i2 -> get_content i2 = 2) in\n",
    "()"
   ]
  },
  {
   "cell_type": "markdown",
   "metadata": {
    "deletable": false,
    "editable": false,
    "nbgrader": {
     "cell_type": "markdown",
     "checksum": "cc0571ca6839637ff15d9b26d5f62911",
     "grade": false,
     "grade_id": "cell-6c01cad3824f060d",
     "locked": true,
     "schema_version": 3,
     "solution": false,
     "task": false
    }
   },
   "source": [
    "## Problem 3\n",
    "\n",
    "Implement a functor \n",
    "\n",
    "```ocaml \n",
    "module MakeList : \n",
    "  functor (N : DoublyLinkedListNode) -> \n",
    "    DoublyLinkedList with type node = N.t \n",
    "                      and type content = N.content\n",
    "```\n",
    "\n",
    "where the module type `DoublyLinkedList` is defined as follows:\n"
   ]
  },
  {
   "cell_type": "code",
   "execution_count": 38,
   "metadata": {
    "deletable": false,
    "editable": false,
    "nbgrader": {
     "cell_type": "code",
     "checksum": "4c1ebf3b1bafac2811c119a456500259",
     "grade": false,
     "grade_id": "cell-672e858c8c679b2e",
     "locked": true,
     "schema_version": 3,
     "solution": false,
     "task": false
    },
    "vscode": {
     "languageId": "ocaml"
    }
   },
   "outputs": [
    {
     "data": {
      "text/plain": [
       "module type DoublyLinkedList =\n",
       "  sig\n",
       "    type t\n",
       "    type node\n",
       "    type content\n",
       "    val create : unit -> t\n",
       "    val assign : t -> node option -> unit\n",
       "    val t_of_list : content list -> t\n",
       "    val is_empty : t -> bool\n",
       "    val first : t -> node option\n",
       "    val insert_first : t -> content -> node\n",
       "    val insert_after : node -> content -> node\n",
       "    val remove : t -> node -> unit\n",
       "    val iter : t -> (content -> unit) -> unit\n",
       "    val iter_node : t -> (node -> unit) -> unit\n",
       "    val string_of_t : t -> string\n",
       "  end\n"
      ]
     },
     "execution_count": 38,
     "metadata": {},
     "output_type": "execute_result"
    }
   ],
   "source": [
    "module type DoublyLinkedList = sig\n",
    "  type t \n",
    "  (** The type of doubly linked list *)\n",
    "  \n",
    "  type node\n",
    "  (** The type of a doubly linked list node *)\n",
    "  \n",
    "  type content\n",
    "  (** The type of content stored in the [node] of doubly linked list *)\n",
    "    \n",
    "  val create : unit -> t \n",
    "  (** Creates a new (empty) doubly linked list *)\n",
    "  \n",
    "  val assign : t -> node option -> unit\n",
    "  (** [assign t n] makes the node as the head node of the list. \n",
    "      The original contents of the list are dropped. *)\n",
    "  \n",
    "  val t_of_list : content list -> t\n",
    "  (** [t_of_list l] returns a new doubly linked list with the list of \n",
    "      elements from the list [l]. *)\n",
    "  \n",
    "  val is_empty : t -> bool\n",
    "  (** [is_empty l] return true if [t] is empty *)\n",
    "  \n",
    "  val first : t -> node option\n",
    "  (** [first l] return [Some n] if the list is non-empty. Otherwise, return [None] *)\n",
    "  \n",
    "  val insert_first : t -> content -> node\n",
    "  (** [insert_first l c] inserts a new doubly linked list node [n] as the first \n",
    "      node in [l] with [c] as the content. Returns [n]. *)\n",
    "      \n",
    "  val insert_after : node -> content -> node\n",
    "  (** [insert_after n c] inserts a new node [n'] with content [c] after the node [n].\n",
    "      Returns [n']. *)\n",
    "  \n",
    "  val remove : t -> node -> unit\n",
    "  (** [remove l n] removes the node [n] from the list [l] *)\n",
    "  \n",
    "  val iter : t -> (content -> unit) -> unit\n",
    "  (** [iter l f] applies [f] to each element of the list in the list order. *)\n",
    "  \n",
    "  val iter_node : t -> (node -> unit) -> unit\n",
    "  (** [iter_node l f] applies [f] to each node of the list in the list order. \n",
    "      [f] may delete the current node or insert a new node after the current node. \n",
    "      In either case, [iter_node] is applied to the rest of the original list. *)\n",
    "      \n",
    "  val string_of_t : t -> string\n",
    "  (** [string_of_t (t_of_list [1;2;3])] returns the string \"[1->2->3]\".\n",
    "      [string_of_t (t_of_list [])] returns the string \"[]\" *)\n",
    "end"
   ]
  },
  {
   "cell_type": "code",
   "execution_count": 39,
   "metadata": {
    "deletable": false,
    "nbgrader": {
     "cell_type": "code",
     "checksum": "6cb459064b81afc6ae33e8ec4f96af0d",
     "grade": false,
     "grade_id": "cell-37a66fdc4f8f3b4b",
     "locked": false,
     "schema_version": 3,
     "solution": true,
     "task": false
    },
    "vscode": {
     "languageId": "ocaml"
    }
   },
   "outputs": [
    {
     "data": {
      "text/plain": [
       "module MakeList :\n",
       "  functor (N : DoublyLinkedListNode) ->\n",
       "    sig\n",
       "      type t\n",
       "      type node = N.t\n",
       "      type content = N.content\n",
       "      val create : unit -> t\n",
       "      val assign : t -> node option -> unit\n",
       "      val t_of_list : content list -> t\n",
       "      val is_empty : t -> bool\n",
       "      val first : t -> node option\n",
       "      val insert_first : t -> content -> node\n",
       "      val insert_after : node -> content -> node\n",
       "      val remove : t -> node -> unit\n",
       "      val iter : t -> (content -> unit) -> unit\n",
       "      val iter_node : t -> (node -> unit) -> unit\n",
       "      val string_of_t : t -> string\n",
       "    end\n"
      ]
     },
     "execution_count": 39,
     "metadata": {},
     "output_type": "execute_result"
    }
   ],
   "source": [
    "module MakeList (N : DoublyLinkedListNode) : DoublyLinkedList with type content = N.content \n",
    "                                                               and type node = N.t = \n",
    "struct\n",
    "\n",
    "type t = \n",
    "{\n",
    "    mutable head : N.t option\n",
    "}\n",
    "\n",
    "type node = N.t\n",
    "\n",
    "type content = N.content\n",
    "\n",
    "let create () = {head = None}\n",
    "\n",
    "let assign t n = t.head <- n\n",
    "\n",
    "let first node = (node.head)\n",
    "\n",
    "let rec t_of_list l = \n",
    "    match l with\n",
    "    | [] -> create ()\n",
    "    | hd :: tl -> \n",
    "        let new_node = N.create hd in \n",
    "            let rest = t_of_list tl in\n",
    "                N.set_next new_node (first rest);\n",
    "                (match first rest with\n",
    "                 | Some node -> N.set_prev node (Some new_node)\n",
    "                 | None -> ());\n",
    "                 assign rest (Some new_node);\n",
    "                 rest\n",
    "                 \n",
    "let is_empty l = (l.head = None)\n",
    "\n",
    "let insert_first old_list v =\n",
    "    let new_node = N.create v in \n",
    "     match old_list.head with\n",
    "     | Some old_head ->\n",
    "       N.set_next new_node (Some old_head);\n",
    "       N.set_prev old_head (Some new_node);\n",
    "       assign old_list (Some new_node);\n",
    "       new_node\n",
    "    | None ->\n",
    "        assign old_list (Some new_node);\n",
    "        new_node\n",
    "\n",
    "let insert_after n c = \n",
    "    let new_node = N.create c in\n",
    "        match (N.get_next n) with \n",
    "        | Some node_next -> \n",
    "            N.set_next n (Some new_node);\n",
    "            N.set_prev new_node (Some n);\n",
    "            N.set_next new_node (Some node_next);\n",
    "            N.set_prev node_next (Some new_node);\n",
    "            new_node\n",
    "        | None ->\n",
    "            N.set_next n (Some new_node);\n",
    "            N.set_prev new_node (Some n);\n",
    "            new_node\n",
    "            \n",
    "let remove l n = \n",
    "    match (N.get_prev n) with\n",
    "    | Some node -> (match (N.get_next n) with \n",
    "                   | Some node1 -> (N.set_next node (Some node1)); \n",
    "                                   (N.set_prev node1 (Some node))\n",
    "                   | None -> (N.set_next node None))\n",
    "                               \n",
    "    | None -> assign l (N.get_next n) \n",
    "\n",
    "let rec iterate f cur = \n",
    "    match cur with\n",
    "    | Some n -> \n",
    "        f (N.get_content n);\n",
    "        iterate f (N.get_next n)\n",
    "    | None -> ()\n",
    "let iter l f = iterate f l.head\n",
    "\n",
    "let rec iterate_node f cur = \n",
    "    match cur with\n",
    "    | Some n -> \n",
    "        let next_node = N.get_next n in\n",
    "        f n;\n",
    "        iterate_node f next_node\n",
    "    | None -> ()\n",
    "        \n",
    "let iter_node l f = iterate_node f l.head\n",
    "\n",
    "    \n",
    "let rec list_to_string cur acc = \n",
    "    match cur with\n",
    "    | Some n -> let content_str = N.string_of_content n in \n",
    "                let seperator = match acc with \n",
    "                | \"\" -> \"\" \n",
    "                | _ -> \"->\" in\n",
    "                    list_to_string (N.get_next n) (acc ^ seperator ^ content_str)\n",
    "    | None -> \"[\" ^ acc ^ \"]\"\n",
    "    \n",
    "let string_of_t l = list_to_string l.head \"\"\n",
    "    \n",
    "end"
   ]
  },
  {
   "cell_type": "code",
   "execution_count": 40,
   "metadata": {
    "deletable": false,
    "editable": false,
    "nbgrader": {
     "cell_type": "code",
     "checksum": "2aa81c08c4dc9ce6980d5140c7cac5ab",
     "grade": true,
     "grade_id": "cell-13adb3683de17ec0",
     "locked": true,
     "points": 5,
     "schema_version": 3,
     "solution": false,
     "task": false
    },
    "vscode": {
     "languageId": "ocaml"
    }
   },
   "outputs": [
    {
     "data": {
      "text/plain": [
       "- : unit = ()\n"
      ]
     },
     "execution_count": 40,
     "metadata": {},
     "output_type": "execute_result"
    }
   ],
   "source": [
    "(* 5 points *)\n",
    "let module L = MakeList(IntNode) in\n",
    "\n",
    "let open L in\n",
    "assert (is_empty (t_of_list []));\n",
    "let l = t_of_list [1;2;3] in\n",
    "assert (not @@ is_empty l);\n",
    "let n = match first l with \n",
    "| None -> failwith \"impossible\" \n",
    "| Some n -> n\n",
    "in\n",
    "assert (1 = IntNode.get_content n);\n",
    "L.(assign l (first (t_of_list [4;5;6])));\n",
    "match first l with\n",
    "| None -> failwith \"impossible\"\n",
    "| Some n -> assert (IntNode.get_content n = 4)\n"
   ]
  },
  {
   "cell_type": "code",
   "execution_count": 41,
   "metadata": {
    "deletable": false,
    "editable": false,
    "nbgrader": {
     "cell_type": "code",
     "checksum": "126ab9920460bd7a20719a94c3c49a4c",
     "grade": true,
     "grade_id": "cell-77b4b373e05637e5",
     "locked": true,
     "points": 5,
     "schema_version": 3,
     "solution": false,
     "task": false
    },
    "vscode": {
     "languageId": "ocaml"
    }
   },
   "outputs": [
    {
     "data": {
      "text/plain": [
       "- : unit = ()\n"
      ]
     },
     "execution_count": 41,
     "metadata": {},
     "output_type": "execute_result"
    }
   ],
   "source": [
    "(* 5 points *)\n",
    "let module L = MakeList(IntNode) in\n",
    "\n",
    "let open L in\n",
    "let l = t_of_list [1;2;3] in\n",
    "let n1 = match first l with\n",
    "  | Some n1 -> n1\n",
    "  | None -> failwith \"impossible\"\n",
    "in\n",
    "let n2 = match IntNode.get_next n1 with\n",
    "  | Some n2 -> n2\n",
    "  | None -> failwith \"impossible\"\n",
    "in\n",
    "remove l n2;\n",
    "let n3 = match IntNode.get_next n1 with\n",
    "  | Some n3 -> n3\n",
    "  | None -> failwith \"impossible\"\n",
    "in\n",
    "let _ = assert (IntNode.get_content n3 = 3) in\n",
    "remove l n1;\n",
    "match first l with\n",
    "| None -> failwith \"impossible\"\n",
    "| Some n3 -> assert (IntNode.get_content n3 = 3)\n"
   ]
  },
  {
   "cell_type": "code",
   "execution_count": 42,
   "metadata": {
    "deletable": false,
    "editable": false,
    "nbgrader": {
     "cell_type": "code",
     "checksum": "d2eefd698609376d702068943d83d47f",
     "grade": true,
     "grade_id": "cell-ee91aa7878aa72ef",
     "locked": true,
     "points": 10,
     "schema_version": 3,
     "solution": false,
     "task": false
    },
    "vscode": {
     "languageId": "ocaml"
    }
   },
   "outputs": [
    {
     "data": {
      "text/plain": [
       "- : unit = ()\n"
      ]
     },
     "execution_count": 42,
     "metadata": {},
     "output_type": "execute_result"
    }
   ],
   "source": [
    "(* 10 points *)\n",
    "let module L = MakeList(IntNode) in\n",
    "let open L in\n",
    "let l = t_of_list [1;2;3] in\n",
    "let s = ref 0 in\n",
    "iter l (fun c -> s := !s + c);\n",
    "assert (!s = 6);\n",
    "iter_node l (fun n -> if IntNode.get_content n mod 2 == 0 then remove l n);\n",
    "let n1 = match first l with\n",
    "  | None -> failwith \"impossible\"\n",
    "  | Some n -> n\n",
    "in\n",
    "assert (IntNode.get_content n1 = 1)\n"
   ]
  },
  {
   "cell_type": "markdown",
   "metadata": {
    "deletable": false,
    "editable": false,
    "nbgrader": {
     "cell_type": "markdown",
     "checksum": "31709c08fbc8b37c22fd68c9011aab93",
     "grade": false,
     "grade_id": "cell-9d4be5ce03913bc2",
     "locked": true,
     "schema_version": 3,
     "solution": false,
     "task": false
    }
   },
   "source": [
    "## Problem 4\n",
    "\n",
    "Implement the functor\n",
    "\n",
    "```ocaml\n",
    "module MakeDllFunctions :\n",
    "  functor (N : DoublyLinkedListNode) ->\n",
    "    Dll_functions with type node = N.t \n",
    "                   and type content = N.content \n",
    "                   and type dll = MakeList(N).t\n",
    "```\n",
    "\n",
    "where the module type `Dll_functions` is:"
   ]
  },
  {
   "cell_type": "code",
   "execution_count": 43,
   "metadata": {
    "deletable": false,
    "editable": false,
    "nbgrader": {
     "cell_type": "code",
     "checksum": "fac2cbfd5ed3dae6b4e09dd29353f6d7",
     "grade": false,
     "grade_id": "cell-5687e58e44409adf",
     "locked": true,
     "schema_version": 3,
     "solution": false,
     "task": false
    },
    "vscode": {
     "languageId": "ocaml"
    }
   },
   "outputs": [
    {
     "data": {
      "text/plain": [
       "module type Dll_functions =\n",
       "  sig\n",
       "    type dll\n",
       "    type node\n",
       "    type content\n",
       "    val length : dll -> int\n",
       "    val duplicate : dll -> unit\n",
       "    val rotate : dll -> int -> unit\n",
       "    val reverse : dll -> unit\n",
       "  end\n"
      ]
     },
     "execution_count": 43,
     "metadata": {},
     "output_type": "execute_result"
    }
   ],
   "source": [
    "module type Dll_functions = sig\n",
    "  type dll\n",
    "  (** The type of doubly linked list *)\n",
    "  \n",
    "  type node\n",
    "  (** The type of doubly linked list node *)\n",
    "  \n",
    "  type content\n",
    "  (** The type of doubly linked list content *)\n",
    "\n",
    "  val length : dll -> int\n",
    "  (** Returns the length of the list. \n",
    "      Use [DLL.iter] to implement it.\n",
    "      Penalty of -5 points DLL.iter is not used *)\n",
    "  \n",
    "  val duplicate : dll -> unit\n",
    "  (** Given a doubly linked list [l] = [1->2], [duplicate l] returns [1->1->2->2]. \n",
    "      Use [DLL.iter_node] to implement it.\n",
    "      Penalty of -5 points DLL.iter_node is not used *)\n",
    "        \n",
    "  val rotate : dll -> int -> unit\n",
    "  (** [rotate l n] rotates the list by [n] nodes. \n",
    "      If the list is [1->2->3->4->5], then [rotate l 0] will not modify the list. \n",
    "      [rotate l 2] will modify the list to be [3->4->5->1->2]. \n",
    "      Assume that [0 <= n < length l] (you can generate exception if the input violates this). *)\n",
    "  \n",
    "   val reverse : dll -> unit\n",
    "   (** [reverse l] reverses the list *)\n",
    "end"
   ]
  },
  {
   "cell_type": "code",
   "execution_count": 44,
   "metadata": {
    "deletable": false,
    "nbgrader": {
     "cell_type": "code",
     "checksum": "6c0c2ae71c678c1c004c342c8fdcc592",
     "grade": false,
     "grade_id": "cell-41159f1b40dac637",
     "locked": false,
     "schema_version": 3,
     "solution": true,
     "task": false
    },
    "vscode": {
     "languageId": "ocaml"
    }
   },
   "outputs": [
    {
     "data": {
      "text/plain": [
       "module MakeDllFunctions :\n",
       "  functor (N : DoublyLinkedListNode) ->\n",
       "    sig\n",
       "      type dll = MakeList(N).t\n",
       "      type node = N.t\n",
       "      type content = N.content\n",
       "      val length : dll -> int\n",
       "      val duplicate : dll -> unit\n",
       "      val rotate : dll -> int -> unit\n",
       "      val reverse : dll -> unit\n",
       "    end\n"
      ]
     },
     "execution_count": 44,
     "metadata": {},
     "output_type": "execute_result"
    }
   ],
   "source": [
    "module MakeDllFunctions (N : DoublyLinkedListNode) \n",
    "  : Dll_functions with type node = N.t \n",
    "                   and type content = N.content \n",
    "                   and type dll = MakeList(N).t = struct\n",
    "                   \n",
    "module DLL = MakeList(N)\n",
    "\n",
    "type dll = DLL.t\n",
    "\n",
    "type node = N.t\n",
    "\n",
    "type content = N.content\n",
    "\n",
    "let length l =\n",
    "    let count = ref 0 in\n",
    "    DLL.iter l (fun _ -> count := !count + 1); \n",
    "    !count\n",
    "\n",
    "    \n",
    "let duplicate l = \n",
    "    DLL.iter_node l (fun node -> \n",
    "                    let c = (N.get_content node) in \n",
    "                    let copy = c in \n",
    "                    DLL.insert_after node copy |> ignore;)\n",
    "\n",
    "\n",
    "let rec get_last_node cur prev = \n",
    "    match cur with\n",
    "    | Some n -> get_last_node (N.get_next n) cur\n",
    "    | None -> prev\n",
    "    \n",
    "let rotate l n =\n",
    "  let len = length l in\n",
    "  if n = 0 || len <= 1 || n >= len then ()\n",
    "  else (\n",
    "    let first = DLL.first l in\n",
    "    let rec find_nth cur count =\n",
    "      if count = n then cur\n",
    "      else\n",
    "        (match cur with\n",
    "        | Some node -> find_nth (N.get_next node) (count + 1)\n",
    "        | None -> None)\n",
    "    in\n",
    "    let new_first = find_nth first 0 in\n",
    "    (match new_first with\n",
    "    | Some new_first_node ->\n",
    "      let new_last = N.get_prev new_first_node in\n",
    "      (match new_last with \n",
    "      | Some new_last_node -> \n",
    "          let last = get_last_node first None in \n",
    "          (match last with\n",
    "          | Some last_node -> \n",
    "          (\n",
    "              (match first with \n",
    "              | Some first_node -> \n",
    "              (\n",
    "                  N.set_next new_last_node None;\n",
    "                  N.set_prev new_first_node None;\n",
    "                  N.set_prev first_node last;\n",
    "                  N.set_next last_node first;\n",
    "                  DLL.assign l new_first\n",
    "              )\n",
    "              | None -> ())\n",
    "          )\n",
    "          | None -> ())\n",
    "      | None -> ())\n",
    "    | None -> ())\n",
    "  )\n",
    "\n",
    "                    \n",
    "let rec reverse_helper l cur prev = \n",
    "    match cur with\n",
    "    | Some n -> \n",
    "        let n_next = N.get_next n in \n",
    "        N.set_next n prev;\n",
    "        N.set_prev n n_next;\n",
    "        reverse_helper l n_next (Some n)\n",
    "    | None -> DLL.assign l prev\n",
    "    \n",
    "let reverse l = reverse_helper l (DLL.first l) None\n",
    "    \n",
    "    \n",
    "end"
   ]
  },
  {
   "cell_type": "code",
   "execution_count": 45,
   "metadata": {
    "deletable": false,
    "editable": false,
    "nbgrader": {
     "cell_type": "code",
     "checksum": "161ac73234084c387f26f53f53de274a",
     "grade": true,
     "grade_id": "cell-91ca747651779274",
     "locked": true,
     "points": 10,
     "schema_version": 3,
     "solution": false,
     "task": false
    },
    "vscode": {
     "languageId": "ocaml"
    }
   },
   "outputs": [
    {
     "data": {
      "text/plain": [
       "- : unit = ()\n"
      ]
     },
     "execution_count": 45,
     "metadata": {},
     "output_type": "execute_result"
    }
   ],
   "source": [
    "(* 10 points *)\n",
    "let module F = MakeDllFunctions (IntNode) in\n",
    "let module M = MakeList(IntNode) in\n",
    "let open M in \n",
    "let l = t_of_list [1;2;3] in\n",
    "let _ = assert (F.length l = 3) in\n",
    "F.duplicate l;\n",
    "let _ = assert (F.length l = 6) in\n",
    "()"
   ]
  },
  {
   "cell_type": "code",
   "execution_count": 46,
   "metadata": {
    "deletable": false,
    "editable": false,
    "nbgrader": {
     "cell_type": "code",
     "checksum": "d7df649a84882e9e03e29c53620d5969",
     "grade": true,
     "grade_id": "cell-dced779ae7b1deac",
     "locked": true,
     "points": 10,
     "schema_version": 3,
     "solution": false,
     "task": false
    },
    "vscode": {
     "languageId": "ocaml"
    }
   },
   "outputs": [
    {
     "data": {
      "text/plain": [
       "- : unit = ()\n"
      ]
     },
     "execution_count": 46,
     "metadata": {},
     "output_type": "execute_result"
    }
   ],
   "source": [
    "(* 10 points *)\n",
    "let module F = MakeDllFunctions (IntNode) in\n",
    "let module M = MakeList(IntNode) in\n",
    "let open M in \n",
    "let l = t_of_list [1;2;3] in\n",
    "let _ = assert (F.length l = 3) in\n",
    "F.duplicate l;\n",
    "let _ = assert (F.length l = 6) in\n",
    "let _ = assert (\"[1->1->2->2->3->3]\" = string_of_t l) in\n",
    "F.rotate l 3;\n",
    "let _ = assert (\"[2->3->3->1->1->2]\" = string_of_t l) in\n",
    "F.rotate l 0;\n",
    "let _ = assert (\"[2->3->3->1->1->2]\" = string_of_t l) in\n",
    "let l = t_of_list [] in\n",
    "F.rotate l 0;\n",
    "let _ = assert (\"[]\" = string_of_t l) in\n",
    "()"
   ]
  },
  {
   "cell_type": "code",
   "execution_count": 47,
   "metadata": {
    "deletable": false,
    "editable": false,
    "nbgrader": {
     "cell_type": "code",
     "checksum": "2f4bc8f1474b880a7506f587a37e35a9",
     "grade": true,
     "grade_id": "cell-2efa4c8d8f3af862",
     "locked": true,
     "points": 10,
     "schema_version": 3,
     "solution": false,
     "task": false
    },
    "vscode": {
     "languageId": "ocaml"
    }
   },
   "outputs": [
    {
     "data": {
      "text/plain": [
       "- : unit = ()\n"
      ]
     },
     "execution_count": 47,
     "metadata": {},
     "output_type": "execute_result"
    }
   ],
   "source": [
    "(* 10 points *)\n",
    "let module F = MakeDllFunctions (IntNode) in\n",
    "let module M = MakeList(IntNode) in\n",
    "let open M in \n",
    "let l = t_of_list [1;2;3] in\n",
    "F.reverse l;\n",
    "assert (\"[3->2->1]\" = string_of_t l)\n"
   ]
  },
  {
   "cell_type": "markdown",
   "metadata": {
    "deletable": false,
    "editable": false,
    "nbgrader": {
     "cell_type": "markdown",
     "checksum": "3890aabce96a06ed98260fbe6ca79160",
     "grade": false,
     "grade_id": "cell-70131cfbcb764598",
     "locked": true,
     "schema_version": 3,
     "solution": false,
     "task": false
    }
   },
   "source": [
    "## Hash Table\n",
    "\n",
    "Implement a hash table using [separate chaining](https://en.wikipedia.org/wiki/Hash_table#Separate_chaining_with_linked_lists). Use an OCaml array for the array of buckets. The documentation of OCaml arrays is found in the [OCaml manual](https://v2.ocaml.org/api/Array.html).\n",
    "\n",
    "Each element in the array is a doubly linked list in order to allow chaining. Use your doubly linked list that you have implemented earlier. The hash table will be implemented as a functor that accepts two module arguments. The first one defines the type of the key, size of the array and the hash function. The signature of that module is:"
   ]
  },
  {
   "cell_type": "code",
   "execution_count": 48,
   "metadata": {
    "deletable": false,
    "editable": false,
    "nbgrader": {
     "cell_type": "code",
     "checksum": "1988d5e02748d47ea008107122c375b1",
     "grade": false,
     "grade_id": "cell-e3f57903cf59d354",
     "locked": true,
     "schema_version": 3,
     "solution": false,
     "task": false
    },
    "vscode": {
     "languageId": "ocaml"
    }
   },
   "outputs": [
    {
     "data": {
      "text/plain": [
       "module type Key =\n",
       "  sig\n",
       "    type t\n",
       "    val num_buckets : int\n",
       "    val hash : t -> int\n",
       "    val string_of_t : t -> string\n",
       "  end\n"
      ]
     },
     "execution_count": 48,
     "metadata": {},
     "output_type": "execute_result"
    }
   ],
   "source": [
    "module type Key = sig\n",
    "  type t\n",
    "  (** The type of key *)\n",
    "  \n",
    "  val num_buckets : int\n",
    "  (** The number of buckets i.e, the size of the buckets array *)\n",
    "  \n",
    "  val hash : t -> int\n",
    "  (** Hashes the key to an integer between [0, num_buckets) *)\n",
    "  \n",
    "  val string_of_t : t -> string\n",
    "  (** Returns the string representation of key *)\n",
    "end"
   ]
  },
  {
   "cell_type": "markdown",
   "metadata": {
    "deletable": false,
    "editable": false,
    "nbgrader": {
     "cell_type": "markdown",
     "checksum": "2b16338346a9fa3821a5d5c66b49a86e",
     "grade": false,
     "grade_id": "cell-5de8d702a916edbf",
     "locked": true,
     "schema_version": 3,
     "solution": false,
     "task": false
    }
   },
   "source": [
    "The second functor argument defines the type of content and its signature is `Showable` that we had defined at the beginning of this assignment. \n",
    "\n",
    "The signature of the `Hash_table` module is:"
   ]
  },
  {
   "cell_type": "code",
   "execution_count": 49,
   "metadata": {
    "deletable": false,
    "editable": false,
    "nbgrader": {
     "cell_type": "code",
     "checksum": "f2f0b8338f1f33819e4053f3f7c64b0f",
     "grade": false,
     "grade_id": "cell-9c0a1c90dbc461cf",
     "locked": true,
     "schema_version": 3,
     "solution": false,
     "task": false
    },
    "vscode": {
     "languageId": "ocaml"
    }
   },
   "outputs": [
    {
     "data": {
      "text/plain": [
       "module type Hash_table =\n",
       "  sig\n",
       "    type key\n",
       "    type content\n",
       "    type t\n",
       "    val create : unit -> t\n",
       "    val put : t -> key -> content -> unit\n",
       "    val get : t -> key -> content option\n",
       "    val remove : t -> key -> unit\n",
       "    val length : t -> int\n",
       "    val string_of_t : t -> string\n",
       "    val chain_length : t -> int -> int\n",
       "  end\n"
      ]
     },
     "execution_count": 49,
     "metadata": {},
     "output_type": "execute_result"
    }
   ],
   "source": [
    "module type Hash_table = sig\n",
    "  type key\n",
    "  (** The type of key *)\n",
    "  \n",
    "  type content\n",
    "  (** The type of value *)\n",
    "  \n",
    "  type t\n",
    "  (** The type of the hash table *)\n",
    "  \n",
    "  val create : unit -> t\n",
    "  (** Creates a new hash table *)\n",
    "  \n",
    "  val put :  t -> key -> content -> unit\n",
    "  (** [put h k v] associates the key [k] with value [v] in the hash table [h]. \n",
    "      If the binding for [k] already exists, overwrite it. *)\n",
    "\n",
    "  val get : t -> key -> content option\n",
    "  (** [get h k] returns [Some v], where [v] is the value associated with the \n",
    "      key [k] in the hash table [h]. Returns [None] if the [k] is not bound in [h]. *)\n",
    "      \n",
    "  val remove : t -> key -> unit\n",
    "  (** [remove h k] removes the association for key [k] from the hash table [h] if it exists *)\n",
    "  \n",
    "  val length : t -> int\n",
    "  (** Return the number of key-value pairs in the hash table *)\n",
    "  \n",
    "  val string_of_t : t -> string\n",
    "  (** Returns a string version of the hash table. Can be in any format. Only for debugging. *)\n",
    "  \n",
    "  val chain_length : t -> int -> int\n",
    "  (** [chain_length h bucket] returns the length of the doubly linked list \n",
    "      at the index [bucket] in the underlying array. \n",
    "      Assume that [0 <= bucket < length(bucket_array)] *)\n",
    "end"
   ]
  },
  {
   "cell_type": "markdown",
   "metadata": {
    "deletable": false,
    "editable": false,
    "nbgrader": {
     "cell_type": "markdown",
     "checksum": "6fb9a475f69e81b1e508c75a177bac8c",
     "grade": false,
     "grade_id": "cell-2ef6dc2adae3d2e7",
     "locked": true,
     "schema_version": 3,
     "solution": false,
     "task": false
    }
   },
   "source": [
    "## Problem 5\n",
    "\n",
    "Implement the functor \n",
    "\n",
    "```ocaml\n",
    "module Make_hash_table :\n",
    "  functor (K : Key) (C : Showable) ->\n",
    "    Hash_table with type key = K.t \n",
    "                and type content = C.t\n",
    "```"
   ]
  },
  {
   "cell_type": "code",
   "execution_count": 50,
   "metadata": {
    "deletable": false,
    "nbgrader": {
     "cell_type": "code",
     "checksum": "edea73e3706cb856b0feb67ec53fcde6",
     "grade": false,
     "grade_id": "cell-9e6c558ab4180147",
     "locked": false,
     "schema_version": 3,
     "solution": true,
     "task": false
    },
    "vscode": {
     "languageId": "ocaml"
    }
   },
   "outputs": [
    {
     "data": {
      "text/plain": [
       "module Make_hash_table :\n",
       "  functor (K : Key) (C : Showable) ->\n",
       "    sig\n",
       "      type key = K.t\n",
       "      type content = C.t\n",
       "      type t\n",
       "      val create : unit -> t\n",
       "      val put : t -> key -> content -> unit\n",
       "      val get : t -> key -> content option\n",
       "      val remove : t -> key -> unit\n",
       "      val length : t -> int\n",
       "      val string_of_t : t -> string\n",
       "      val chain_length : t -> int -> int\n",
       "    end\n"
      ]
     },
     "execution_count": 50,
     "metadata": {},
     "output_type": "execute_result"
    }
   ],
   "source": [
    "module Make_hash_table (K : Key) (C : Showable) : Hash_table with type key = K.t and type content = C.t = struct\n",
    "(* I got 0/35 for this problem :( for not using the double linked list implemented above *)\n",
    "type key = K.t\n",
    "type content = C.t\n",
    "\n",
    "type node = \n",
    "{\n",
    "    mutable key : K.t;\n",
    "    mutable content : C.t;\n",
    "    mutable prev : node option;\n",
    "    mutable next : node option;\n",
    "}\n",
    "\n",
    "type t = \n",
    "{\n",
    "    mutable buckets : node option array;\n",
    "}\n",
    "\n",
    "let create () =\n",
    "  let new_buckets = Array.make K.num_buckets None in\n",
    "  { buckets = new_buckets }\n",
    "\n",
    "\n",
    "let rec find_key l k = \n",
    "    match l with \n",
    "    | Some cur -> \n",
    "        if cur.key = k then (Some cur)\n",
    "        else find_key cur.next k\n",
    "    | None -> None \n",
    "    \n",
    "let rec find_last l prev = \n",
    "    match l with \n",
    "    | Some cur -> find_last cur.next (Some cur)\n",
    "    | None -> prev\n",
    "    \n",
    "let put h k v = \n",
    "    let bucket_index = K.hash k in\n",
    "    let new_node = {key = k; content = v; prev = None; next = None} in\n",
    "    let old_node = h.buckets.(bucket_index) in\n",
    "    let key_dll = find_key old_node k in\n",
    "    (match key_dll with \n",
    "    | Some n -> n.content <- v\n",
    "    | None -> let last_node = find_last old_node None in \n",
    "                (match last_node with\n",
    "                | Some last_n -> \n",
    "                    last_n.next <- (Some new_node);\n",
    "                    new_node.prev <- last_n.next\n",
    "                | None -> \n",
    "                    h.buckets.(bucket_index) <- (Some new_node)))\n",
    "\n",
    "let get h k = \n",
    "    let bucket_index = K.hash k in \n",
    "    let old_node = h.buckets.(bucket_index) in\n",
    "    let key_dll = find_key old_node k in\n",
    "    (match key_dll with \n",
    "    | Some n -> Some n.content \n",
    "    | None -> None)\n",
    "    \n",
    "let remove h k = \n",
    "    let bucket_index = K.hash k in \n",
    "    let rec remove_key_from_dll node = \n",
    "        match node with\n",
    "        | Some n -> \n",
    "            if n.key = k then (\n",
    "            match n.prev with \n",
    "            | Some prev_node -> prev_node.next <- n.next\n",
    "            | None -> h.buckets.(bucket_index) <- n.next\n",
    "            )\n",
    "            else remove_key_from_dll n.next\n",
    "        | None -> ()\n",
    "    in \n",
    "    remove_key_from_dll h.buckets.(bucket_index)\n",
    "\n",
    "let rec find_length n cur = \n",
    "    match n with \n",
    "    | Some nd -> find_length nd.next (cur + 1)\n",
    "    | None -> cur\n",
    "    \n",
    "let chain_length h bucket = (find_length h.buckets.(bucket) 0)\n",
    "\n",
    "let rec length_helper h acc idx = \n",
    "    if idx = K.num_buckets then acc\n",
    "    else length_helper h (acc + (chain_length h idx)) (idx + 1)\n",
    "    \n",
    "let length h = length_helper h 0 0\n",
    "\n",
    "let string_of_t h = \"\"\n",
    "        \n",
    "end"
   ]
  },
  {
   "cell_type": "code",
   "execution_count": 51,
   "metadata": {
    "vscode": {
     "languageId": "ocaml"
    }
   },
   "outputs": [
    {
     "name": "stdout",
     "output_type": "stream",
     "text": [
      "module type Key =\n"
     ]
    },
    {
     "name": "stdout",
     "output_type": "stream",
     "text": [
      "  sig\n",
      "    type t\n",
      "    val num_buckets : int\n",
      "    val hash : t -> int\n",
      "    val string_of_t : t -> string\n",
      "  end\n"
     ]
    }
   ],
   "source": [
    "#show_module_type Key"
   ]
  },
  {
   "cell_type": "code",
   "execution_count": 52,
   "metadata": {
    "deletable": false,
    "editable": false,
    "nbgrader": {
     "cell_type": "code",
     "checksum": "c8e22d5272589fec5d86423094385b41",
     "grade": false,
     "grade_id": "cell-b7d022fd3736f848",
     "locked": true,
     "schema_version": 3,
     "solution": false,
     "task": false
    },
    "vscode": {
     "languageId": "ocaml"
    }
   },
   "outputs": [
    {
     "data": {
      "text/plain": [
       "module K :\n",
       "  sig\n",
       "    type t = int\n",
       "    val num_buckets : int\n",
       "    val hash : t -> int\n",
       "    val string_of_t : t -> string\n",
       "  end\n"
      ]
     },
     "execution_count": 52,
     "metadata": {},
     "output_type": "execute_result"
    },
    {
     "data": {
      "text/plain": [
       "module StringShowable : sig type t = string val string_of_t : t -> string end\n"
      ]
     },
     "execution_count": 52,
     "metadata": {},
     "output_type": "execute_result"
    },
    {
     "data": {
      "text/plain": [
       "module H :\n",
       "  sig\n",
       "    type key = K.t\n",
       "    type content = StringShowable.t\n",
       "    type t = Make_hash_table(K)(StringShowable).t\n",
       "    val create : unit -> t\n",
       "    val put : t -> key -> content -> unit\n",
       "    val get : t -> key -> content option\n",
       "    val remove : t -> key -> unit\n",
       "    val length : t -> int\n",
       "    val string_of_t : t -> string\n",
       "    val chain_length : t -> int -> int\n",
       "  end\n"
      ]
     },
     "execution_count": 52,
     "metadata": {},
     "output_type": "execute_result"
    }
   ],
   "source": [
    "module K : Key with type t = int = struct\n",
    "  type t = int\n",
    "  let num_buckets = 64\n",
    "  let hash k = k mod num_buckets\n",
    "  let string_of_t = string_of_int\n",
    "end\n",
    "\n",
    "module StringShowable : Showable with type t = string = struct\n",
    "  type t = string\n",
    "  let string_of_t s = s\n",
    "end\n",
    "\n",
    "module H = Make_hash_table(K)(StringShowable)\n",
    "\n",
    "open H"
   ]
  },
  {
   "cell_type": "code",
   "execution_count": 53,
   "metadata": {
    "deletable": false,
    "editable": false,
    "nbgrader": {
     "cell_type": "code",
     "checksum": "3d87a6b2ba4ded0c20f83eacefba135f",
     "grade": true,
     "grade_id": "cell-000e5d1f749d2866",
     "locked": true,
     "points": 15,
     "schema_version": 3,
     "solution": false,
     "task": false
    },
    "vscode": {
     "languageId": "ocaml"
    }
   },
   "outputs": [
    {
     "data": {
      "text/plain": [
       "- : unit = ()\n"
      ]
     },
     "execution_count": 53,
     "metadata": {},
     "output_type": "execute_result"
    }
   ],
   "source": [
    "(* 15 points *)\n",
    "let h = create () in\n",
    "put h 0 \"zero\";\n",
    "put h 1 \"one\";\n",
    "assert (get h 0 = Some \"zero\");\n",
    "assert (get h 1 = Some \"one\");\n",
    "put h 0 \"-zero-\";\n",
    "assert (get h 0 = Some \"-zero-\")\n"
   ]
  },
  {
   "cell_type": "code",
   "execution_count": 54,
   "metadata": {
    "deletable": false,
    "editable": false,
    "nbgrader": {
     "cell_type": "code",
     "checksum": "57d04098c82287c7fcb8863a873c4437",
     "grade": true,
     "grade_id": "cell-2a9f56f539793f1e",
     "locked": true,
     "points": 20,
     "schema_version": 3,
     "solution": false,
     "task": false
    },
    "vscode": {
     "languageId": "ocaml"
    }
   },
   "outputs": [
    {
     "data": {
      "text/plain": [
       "- : unit = ()\n"
      ]
     },
     "execution_count": 54,
     "metadata": {},
     "output_type": "execute_result"
    }
   ],
   "source": [
    "(* 20 points *)\n",
    "let h = create () in\n",
    "put h 0 \"zero\";\n",
    "put h 1 \"one\";\n",
    "assert (get h 0 = Some \"zero\");\n",
    "assert (get h 1 = Some \"one\");\n",
    "put h 64 \"-zero-\";\n",
    "assert (get h 0 = Some \"zero\");\n",
    "assert (get h 64 = Some \"-zero-\");\n",
    "assert (length h = 3);\n",
    "assert (chain_length h 0 = 2);\n",
    "assert (chain_length h 1 = 1)\n"
   ]
  }
 ],
 "metadata": {
  "kernelspec": {
   "display_name": "OCaml 4.10",
   "language": "OCaml",
   "name": "ocaml-jupyter"
  },
  "language_info": {
   "codemirror_mode": "text/x-ocaml",
   "file_extension": ".ml",
   "mimetype": "text/x-ocaml",
   "name": "OCaml",
   "nbconverter_exporter": null,
   "pygments_lexer": "OCaml",
   "version": "4.10.0"
  }
 },
 "nbformat": 4,
 "nbformat_minor": 2
}
