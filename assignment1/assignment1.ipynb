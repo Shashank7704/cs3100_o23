{
 "cells": [
  {
   "cell_type": "markdown",
   "metadata": {},
   "source": [
    "Before you turn this problem in, make sure everything runs as expected. First, **restart the kernel** (in the menubar, select Kernel$\\rightarrow$Restart) and then **run all cells** (in the menubar, select Cell$\\rightarrow$Run All).\n",
    "\n",
    "Make sure you fill in any place that says `YOUR CODE HERE` or \"YOUR ANSWER HERE\", as well as your name below:"
   ]
  },
  {
   "cell_type": "code",
   "execution_count": null,
   "metadata": {},
   "outputs": [],
   "source": [
    "let name = \"Kakunuri Shashank Reddy\"\n",
    "let rollno = \"CS21B038\""
   ]
  },
  {
   "cell_type": "markdown",
   "metadata": {},
   "source": [
    "## Important notes about grading:\n",
    "\n",
    "1. All code you submit must compile. Programs that do not compile will probably receive an automatic zero. If you are having trouble getting your assignment to compile, please contact the TAs or the instructor or visit the course contact hour. If you run out of time, it is better to comment out the parts that do not compile, than hand in a more complete file that does not compile.\n",
    "2. All assignments handed in after the deadline will be considered late, and will consume your grace days. \n",
    "3. Verify on moodle that you have submitted the correct version, before the deadline. Submitting the incorrect version before the deadline and realizing that you have done so after the deadline will be counted as a late submission."
   ]
  },
  {
   "cell_type": "markdown",
   "metadata": {
    "deletable": false,
    "editable": false,
    "nbgrader": {
     "cell_type": "markdown",
     "checksum": "12b42b2de0e7eeea66ba08cc01309278",
     "grade": false,
     "grade_id": "cell-41ce3e7523a44045",
     "locked": true,
     "schema_version": 3,
     "solution": false
    }
   },
   "source": [
    "## Problem 1\n",
    "\n",
    "Write a function \n",
    "\n",
    "```ocaml\n",
    "cond_drop : 'a list -> ('a -> bool) -> 'a list\n",
    "```\n",
    "\n",
    "list that takes in a list and a predicate and drops all elements which satisfy the condition expressed in the predicate. For example, `cond_drop [3;4;5] (fun x -> x mod 2 = 0) = [3;5]`."
   ]
  },
  {
   "cell_type": "code",
   "execution_count": 1,
   "metadata": {
    "deletable": false,
    "nbgrader": {
     "cell_type": "code",
     "checksum": "00e7cc5ef20f51d5a2cfa30976019f38",
     "grade": false,
     "grade_id": "cell-7950f1ea0a84b889",
     "locked": false,
     "schema_version": 3,
     "solution": true
    }
   },
   "outputs": [
    {
     "data": {
      "text/plain": [
       "val cond_drop : 'a list -> ('a -> bool) -> 'a list = <fun>\n"
      ]
     },
     "execution_count": 1,
     "metadata": {},
     "output_type": "execute_result"
    }
   ],
   "source": [
    "let rec cond_drop l f =\n",
    "  match l with\n",
    "  | [] -> []\n",
    "  | hd :: tl -> if (f hd) then (cond_drop tl f) else ([hd] @ cond_drop tl f)"
   ]
  },
  {
   "cell_type": "code",
   "execution_count": 2,
   "metadata": {
    "deletable": false,
    "editable": false,
    "nbgrader": {
     "cell_type": "code",
     "checksum": "4a02ed3334fd5e6cf5fc36096644c0db",
     "grade": true,
     "grade_id": "cell-1d772b02ff64382c",
     "locked": true,
     "points": 10,
     "schema_version": 3,
     "solution": false
    }
   },
   "outputs": [
    {
     "data": {
      "text/plain": [
       "- : unit = ()\n"
      ]
     },
     "execution_count": 2,
     "metadata": {},
     "output_type": "execute_result"
    }
   ],
   "source": [
    "(* 10 points *)\n",
    "assert (cond_drop[3;4;5] (fun x -> x mod 2 = 0) = [3;5])"
   ]
  },
  {
   "cell_type": "markdown",
   "metadata": {
    "deletable": false,
    "editable": false,
    "nbgrader": {
     "cell_type": "markdown",
     "checksum": "cf4be184ca65500d1a78498b92e59162",
     "grade": false,
     "grade_id": "cell-67553e1ff5c90180",
     "locked": true,
     "schema_version": 3,
     "solution": false
    }
   },
   "source": [
    "## Problem 2\n",
    "\n",
    "Write a function \n",
    "\n",
    "```ocaml\n",
    "n_times : ('a -> 'a) -> int -> 'a list -> 'a list\n",
    "```\n",
    "\n",
    "such that `n_times (f,n,l)` applies `f` to each element in the list `l` `n` times. For example, `n_times (fun x-> x+1) 50 [0,0] = [50,50]`. If `n<=0` return the input list `l`. Try to write a tail-recursive function. If your function is not tail recursive, there will be a penalty of 2 points. You can use the `List.map` library function.\n"
   ]
  },
  {
   "cell_type": "code",
   "execution_count": 3,
   "metadata": {
    "deletable": false,
    "nbgrader": {
     "cell_type": "code",
     "checksum": "0d2849d052e517ea219a26bc52449c43",
     "grade": false,
     "grade_id": "cell-c28f98bd63f56ba1",
     "locked": false,
     "schema_version": 3,
     "solution": true
    }
   },
   "outputs": [
    {
     "data": {
      "text/plain": [
       "val n_times : ('a -> 'a) -> int -> 'a list -> 'a list = <fun>\n"
      ]
     },
     "execution_count": 3,
     "metadata": {},
     "output_type": "execute_result"
    }
   ],
   "source": [
    "let rec n_times f n l =\n",
    "  if n <= 0 then l \n",
    "  else n_times f (n-1) (List.map f l)"
   ]
  },
  {
   "cell_type": "code",
   "execution_count": 4,
   "metadata": {
    "deletable": false,
    "editable": false,
    "nbgrader": {
     "cell_type": "code",
     "checksum": "4ad62c325e1754bc8add34f3b1637399",
     "grade": true,
     "grade_id": "cell-98364653c4b77b2d",
     "locked": true,
     "points": 10,
     "schema_version": 3,
     "solution": false
    }
   },
   "outputs": [
    {
     "data": {
      "text/plain": [
       "- : unit = ()\n"
      ]
     },
     "execution_count": 4,
     "metadata": {},
     "output_type": "execute_result"
    }
   ],
   "source": [
    "(* 10 points *)\n",
    "assert (n_times (fun x-> x+1) 50 [0;0] = [50;50])"
   ]
  },
  {
   "cell_type": "markdown",
   "metadata": {},
   "source": [
    "## Problem 3\n",
    "\n",
    "Write a function \n",
    "\n",
    "```ocaml\n",
    "range : int -> int -> int -> int list \n",
    "```\n",
    "\n",
    "such that `range num1 num2 step` returns an ordered list of all integers from `num1` to `num2` inclusive which are `step` apart from each other. For example, `range 2 5 1 = [2;3;4;5]`, while `range 2 5 2 = [2;4]`. If `num1 > num2`, then there are no integers in the range, hence you should return the empty list. Raise the exception `IncorrectStep` if `step <= 0`."
   ]
  },
  {
   "cell_type": "code",
   "execution_count": 5,
   "metadata": {
    "deletable": false,
    "nbgrader": {
     "cell_type": "code",
     "checksum": "16fe3e3cb82b152b8ed4e89c0a17354d",
     "grade": false,
     "grade_id": "cell-1fd147f7eb3b139d",
     "locked": false,
     "schema_version": 3,
     "solution": true
    }
   },
   "outputs": [
    {
     "data": {
      "text/plain": [
       "exception IncorrectStep\n"
      ]
     },
     "execution_count": 5,
     "metadata": {},
     "output_type": "execute_result"
    },
    {
     "data": {
      "text/plain": [
       "val range : int -> int -> int -> int list = <fun>\n"
      ]
     },
     "execution_count": 5,
     "metadata": {},
     "output_type": "execute_result"
    }
   ],
   "source": [
    "exception IncorrectStep\n",
    "\n",
    "let rec range num1 num2 step =\n",
    "  if (step <= 0) then raise IncorrectStep\n",
    "  else if (num1 > num2) then []\n",
    "  else [num1] @ range (num1 + step) num2 step"
   ]
  },
  {
   "cell_type": "code",
   "execution_count": 6,
   "metadata": {
    "deletable": false,
    "editable": false,
    "nbgrader": {
     "cell_type": "code",
     "checksum": "16f3d0910470218a8f4c30240535f403",
     "grade": true,
     "grade_id": "cell-bba984120a807d42",
     "locked": true,
     "points": 10,
     "schema_version": 3,
     "solution": false
    }
   },
   "outputs": [
    {
     "data": {
      "text/plain": [
       "- : unit = ()\n"
      ]
     },
     "execution_count": 6,
     "metadata": {},
     "output_type": "execute_result"
    }
   ],
   "source": [
    "(* 10 points *)\n",
    "assert (range 2 5 1 = [2;3;4;5]);\n",
    "assert (range 2 5 2 = [2;4])"
   ]
  },
  {
   "cell_type": "markdown",
   "metadata": {
    "deletable": false,
    "editable": false,
    "nbgrader": {
     "cell_type": "markdown",
     "checksum": "f40688738b7b4af9f498b6b2a3b40e4f",
     "grade": false,
     "grade_id": "cell-02994ffdb9f579cf",
     "locked": true,
     "schema_version": 3,
     "solution": false
    }
   },
   "source": [
    "## Problem 4\n",
    "\n",
    "Write a function \n",
    "\n",
    "```ocaml\n",
    "zipwith : ('a -> 'b -> 'c) -> 'a list -> 'b list -> 'c list\n",
    "```\n",
    "\n",
    "such that `zipwith f l1 l2` generates a list whose `ith` element is obtained by applying `f` to the `ith` element of `l1` and the `ith` element of `l2` . If the lists have different lengths, the extra elements in the longer list should be ignored. For example, `zipwith (+) [1;2;3] [4;5] = [5;7]`."
   ]
  },
  {
   "cell_type": "code",
   "execution_count": 7,
   "metadata": {
    "deletable": false,
    "nbgrader": {
     "cell_type": "code",
     "checksum": "618f17a05cf46a7865aa3815616d7d3f",
     "grade": false,
     "grade_id": "cell-932054b41dace011",
     "locked": false,
     "schema_version": 3,
     "solution": true
    }
   },
   "outputs": [
    {
     "data": {
      "text/plain": [
       "val zipwith : ('a -> 'b -> 'c) -> 'a list -> 'b list -> 'c list = <fun>\n"
      ]
     },
     "execution_count": 7,
     "metadata": {},
     "output_type": "execute_result"
    }
   ],
   "source": [
    "let rec zipwith f l1 l2 =\n",
    "  match (l1, l2) with\n",
    "  | ([], _) -> []\n",
    "  | (_, []) -> []\n",
    "  | (h1 :: t1, h2 :: t2) -> [f h1 h2] @ (zipwith f t1 t2)"
   ]
  },
  {
   "cell_type": "code",
   "execution_count": 8,
   "metadata": {
    "deletable": false,
    "editable": false,
    "nbgrader": {
     "cell_type": "code",
     "checksum": "0035f40f9b8ebf945f0fc9f751e453d4",
     "grade": true,
     "grade_id": "cell-55aefe5fa4f927d0",
     "locked": true,
     "points": 10,
     "schema_version": 3,
     "solution": false
    }
   },
   "outputs": [
    {
     "data": {
      "text/plain": [
       "- : unit = ()\n"
      ]
     },
     "execution_count": 8,
     "metadata": {},
     "output_type": "execute_result"
    }
   ],
   "source": [
    "(* 10 points *)\n",
    "assert (zipwith (+) [1;2;3] [4;5] = [5;7]) "
   ]
  },
  {
   "cell_type": "markdown",
   "metadata": {
    "deletable": false,
    "editable": false,
    "nbgrader": {
     "cell_type": "markdown",
     "checksum": "e86f25cd60d8c6c6466403f7a4a075f9",
     "grade": false,
     "grade_id": "cell-6d364d82aa5deaae",
     "locked": true,
     "schema_version": 3,
     "solution": false
    }
   },
   "source": [
    "## Problem 5\n",
    "\n",
    "Write a function \n",
    "\n",
    "```ocaml\n",
    "buckets : ('a -> 'a -> bool) -> 'a list -> 'a list list \n",
    "```\n",
    "\n",
    "that partitions a list into equivalence classes. That is, buckets equiv lst should return a list of lists where each sublist in the result contains equivalent elements, where two elements are considered equivalent if equiv returns true. For example:\n",
    "\n",
    "\n",
    "```ocaml\n",
    "buckets (=) [1;2;3;4] = [[1];[2];[3];[4]]\n",
    "buckets (=) [1;2;3;4;2;3;4;3;4] = [[1];[2;2];[3;3;3];[4;4;4]]\n",
    "buckets (fun x y -> (=) (x mod 3) (y mod 3)) [1;2;3;4;5;6] = [[1;4];[2;5];[3;6]]\n",
    "```\n",
    "\n",
    "The order of the buckets must reflect the order in which the elements appear in the original list. For example, the output of `buckets (=) [1;2;3;4]` should be `[[1];[2];[3];[4]]` and not `[[2];[1];[3];[4]]` or any other permutation.\n",
    "\n",
    "The order of the elements in each bucket must reflect the order in which the elements appear in the original list. For example, the output of `buckets (fun x y -> (=) (x mod 3) (y mod 3)) [1;2;3;4;5;6]` should be `[[1;4];[2;5];[3;6]]` and not `[[4;1];[5;2];[3;6]]` or any other permutations.\n",
    "\n",
    "Assume that the comparison function `('a -> 'a -> bool)` is commutative, associative and idempotent.\n",
    "\n",
    "Just use lists. Do not use sets or hash tables.\n",
    "\n",
    "List append function `@` may come in handy. `[1;2;3] @ [4;5;6] = [1;2;3;4;5;6]`."
   ]
  },
  {
   "cell_type": "code",
   "execution_count": 50,
   "metadata": {
    "deletable": false,
    "nbgrader": {
     "cell_type": "code",
     "checksum": "525112ce6c8ff36fe4d5206434774fa0",
     "grade": false,
     "grade_id": "cell-f4d88f256cc9db8b",
     "locked": false,
     "schema_version": 3,
     "solution": true
    }
   },
   "outputs": [
    {
     "data": {
      "text/plain": [
       "val aux :\n",
       "  ('a -> 'a -> bool) -> 'a -> 'a list list -> 'a list list -> 'a list list =\n",
       "  <fun>\n"
      ]
     },
     "execution_count": 50,
     "metadata": {},
     "output_type": "execute_result"
    },
    {
     "data": {
      "text/plain": [
       "val buckets : ('a -> 'a -> bool) -> 'a list -> 'a list list = <fun>\n"
      ]
     },
     "execution_count": 50,
     "metadata": {},
     "output_type": "execute_result"
    }
   ],
   "source": [
    "let rec aux p x cur prev = \n",
    "    match cur with \n",
    "    | [] -> prev @ [[x]]\n",
    "    | h :: t -> if (p (List.hd h) x) then ((prev) @ ((h @ [x]) :: t))\n",
    "                  else aux p x t (prev @ [h])\n",
    "                  \n",
    "let buckets p l =\n",
    "    let rec helper p l acc = \n",
    "        match l with \n",
    "        | [] -> acc\n",
    "        | hd :: tl -> helper p tl (aux p hd acc [])\n",
    "    in helper p l []"
   ]
  },
  {
   "cell_type": "code",
   "execution_count": 51,
   "metadata": {
    "deletable": false,
    "editable": false,
    "nbgrader": {
     "cell_type": "code",
     "checksum": "e9af8ddda16275f9da5b0067acf72b81",
     "grade": true,
     "grade_id": "cell-fdbd3b5564e151cb",
     "locked": true,
     "points": 20,
     "schema_version": 3,
     "solution": false
    }
   },
   "outputs": [
    {
     "data": {
      "text/plain": [
       "- : unit = ()\n"
      ]
     },
     "execution_count": 51,
     "metadata": {},
     "output_type": "execute_result"
    }
   ],
   "source": [
    "(* 20 points *)\n",
    "assert (buckets (=) [1;2;3;4] = [[1];[2];[3];[4]])\n",
    "; assert (buckets (=) [1;2;3;4;2;3;4;3;4] = [[1];[2;2];[3;3;3];[4;4;4]])\n",
    "; assert (buckets (fun x y -> (=) (x mod 3) (y mod 3)) [1;2;3;4;5;6] = [[1;4];[2;5];[3;6]])"
   ]
  },
  {
   "cell_type": "markdown",
   "metadata": {
    "deletable": false,
    "editable": false,
    "nbgrader": {
     "cell_type": "markdown",
     "checksum": "ffa6200eeca54b39d637dfdb9bfdf1ca",
     "grade": false,
     "grade_id": "cell-a1b5f25dd108d44d",
     "locked": true,
     "schema_version": 3,
     "solution": false
    }
   },
   "source": [
    "## Problem 6\n",
    "\n",
    "A list with consecutive repeated elements can be efficiently encoded by removing the repetitions and instead storing the number of times the element is repeated consecutively. For example, the list `[\"a\";\"b\";\"b\";\"c\";\"a\";\"a\";\"a\";\"d\";\"d\";\"b\";\"b\"]` can be encoded by the list `[(1,\"a\");(2,\"b\");(1,\"c\");(3,\"a\");(2,\"d\");(2,\"b\")]`. Each tuple counts the number of repetitions of the element. Note that the ordering of elements in the list is preserved in the encoding. Write a function to generate this encoding.\n",
    "\n",
    "```ocaml\n",
    "encode : 'a list -> (int * 'a) list\n",
    "```\n",
    "\n",
    "Hint: `option` type may be useful here."
   ]
  },
  {
   "cell_type": "code",
   "execution_count": 10,
   "metadata": {
    "deletable": false,
    "nbgrader": {
     "cell_type": "code",
     "checksum": "ff679f7093fd78144f8c8226f8d970d4",
     "grade": false,
     "grade_id": "cell-8865e0dd05cbd32d",
     "locked": false,
     "schema_version": 3,
     "solution": true
    }
   },
   "outputs": [
    {
     "data": {
      "text/plain": [
       "val encode : 'a list -> (int * 'a) list = <fun>\n"
      ]
     },
     "execution_count": 10,
     "metadata": {},
     "output_type": "execute_result"
    }
   ],
   "source": [
    "let encode (l: 'a list) =\n",
    "  let rec aux l acc prev cnt = \n",
    "  match l with \n",
    "  | [] -> acc @ [(cnt, prev)]\n",
    "  | hd :: tl -> if (hd = prev) then aux tl acc prev (cnt + 1)  \n",
    "                else aux tl (acc @ [(cnt, prev)]) (hd) (1) \n",
    "                in (match l with \n",
    "                | [] -> []\n",
    "                | hd :: tl -> aux tl [] hd 1)"
   ]
  },
  {
   "cell_type": "code",
   "execution_count": 11,
   "metadata": {
    "deletable": false,
    "editable": false,
    "nbgrader": {
     "cell_type": "code",
     "checksum": "5c071d8e974590072ab11280c621fe7e",
     "grade": true,
     "grade_id": "cell-aa3fb845581c6fce",
     "locked": true,
     "points": 15,
     "schema_version": 3,
     "solution": false
    }
   },
   "outputs": [
    {
     "data": {
      "text/plain": [
       "- : unit = ()\n"
      ]
     },
     "execution_count": 11,
     "metadata": {},
     "output_type": "execute_result"
    }
   ],
   "source": [
    "(* 15 points *)\n",
    "assert (encode [\"a\";\"b\";\"b\";\"c\";\"a\";\"a\";\"a\";\"d\";\"d\";\"b\";\"b\"] = [(1,\"a\");(2,\"b\");(1,\"c\");(3,\"a\");(2,\"d\");(2,\"b\")]) "
   ]
  },
  {
   "cell_type": "markdown",
   "metadata": {
    "deletable": false,
    "editable": false,
    "nbgrader": {
     "cell_type": "markdown",
     "checksum": "b512b905b80d45f758a19345a61afd0d",
     "grade": false,
     "grade_id": "cell-4b542995895ed4a3",
     "locked": true,
     "schema_version": 3,
     "solution": false
    }
   },
   "source": [
    "## Problem 7\n",
    "\n",
    "Write a function\n",
    "\n",
    "```ocaml\n",
    "flatten : 'a list list -> 'a list\n",
    "```\n",
    "\n",
    "that flattens a list. For example, `flatten [[1;2];[3;4]] = [1;2;3;4]`."
   ]
  },
  {
   "cell_type": "code",
   "execution_count": 12,
   "metadata": {
    "deletable": false,
    "nbgrader": {
     "cell_type": "code",
     "checksum": "57427e4916913ae7243b0d48b9c34c81",
     "grade": false,
     "grade_id": "cell-1ba30bbe74fd3005",
     "locked": false,
     "schema_version": 3,
     "solution": true
    }
   },
   "outputs": [
    {
     "data": {
      "text/plain": [
       "val flatten : 'a list list -> 'a list = <fun>\n"
      ]
     },
     "execution_count": 12,
     "metadata": {},
     "output_type": "execute_result"
    }
   ],
   "source": [
    "let rec flatten l =\n",
    "  let rec aux l acc = \n",
    "      match l with \n",
    "      | [] -> acc\n",
    "      | hd :: tl -> aux tl (acc @ hd)\n",
    "    in aux l []"
   ]
  },
  {
   "cell_type": "code",
   "execution_count": 13,
   "metadata": {
    "deletable": false,
    "editable": false,
    "nbgrader": {
     "cell_type": "code",
     "checksum": "d97ee561c3e63df3dc9f15dac224fcb2",
     "grade": true,
     "grade_id": "cell-8e986c3f5dbf5e89",
     "locked": true,
     "points": 10,
     "schema_version": 3,
     "solution": false
    }
   },
   "outputs": [
    {
     "data": {
      "text/plain": [
       "- : unit = ()\n"
      ]
     },
     "execution_count": 13,
     "metadata": {},
     "output_type": "execute_result"
    }
   ],
   "source": [
    "(* 10 points *)\n",
    "assert (flatten ([[1;2];[3;4]]) = [1;2;3;4])"
   ]
  },
  {
   "cell_type": "markdown",
   "metadata": {
    "deletable": false,
    "editable": false,
    "nbgrader": {
     "cell_type": "markdown",
     "checksum": "66f4509029486820a57ab1afcf4482fd",
     "grade": false,
     "grade_id": "cell-530261255defad7b",
     "locked": true,
     "schema_version": 3,
     "solution": false
    }
   },
   "source": [
    "## Problem 8\n",
    "\n",
    "Write a function\n",
    "\n",
    "```ocaml\n",
    "\n",
    "type 'a tree = Leaf | Node of 'a tree * 'a * 'a tree\n",
    "\n",
    "type traversal = Preorder | Inorder | Postorder\n",
    "\n",
    "fold_tree : ('a -> 'b -> 'a) -> 'a -> 'b tree -> traversal -> 'a\n",
    "```\n",
    "\n",
    "That does a fold of the tree, while visiting the nodes according to the given traversal. For example,\n",
    "\n",
    "`fold_tree (fun acc x -> acc @ [x]) [] (Node (Node (Leaf,1,Leaf), 2, Node (Leaf,3,Leaf))) Inorder = [1;2;3]`\n",
    "\n",
    "`fold_tree (fun acc x -> acc @ [x]) [] (Node (Node (Leaf,1,Leaf), 2, Node (Leaf,3,Leaf))) Preorder = [2;1;3]`\n",
    "\n",
    "`fold_tree (fun acc x -> acc @ [x]) [] (Node (Node (Leaf,1,Leaf), 2, Node (Leaf,3,Leaf))) Postorder = [1;3;2]`"
   ]
  },
  {
   "cell_type": "code",
   "execution_count": 34,
   "metadata": {
    "deletable": false,
    "nbgrader": {
     "cell_type": "code",
     "checksum": "bcfdfc03e8343cdc9f9bbbe02f2f5b26",
     "grade": false,
     "grade_id": "cell-7170388040d2ef4b",
     "locked": false,
     "schema_version": 3,
     "solution": true
    }
   },
   "outputs": [
    {
     "data": {
      "text/plain": [
       "type 'a tree = Leaf | Node of 'a tree * 'a * 'a tree\n"
      ]
     },
     "execution_count": 34,
     "metadata": {},
     "output_type": "execute_result"
    },
    {
     "data": {
      "text/plain": [
       "type traversal = Preorder | Inorder | Postorder\n"
      ]
     },
     "execution_count": 34,
     "metadata": {},
     "output_type": "execute_result"
    },
    {
     "data": {
      "text/plain": [
       "val fold_tree : ('a -> 'b -> 'a) -> 'a -> 'b tree -> traversal -> 'a = <fun>\n"
      ]
     },
     "execution_count": 34,
     "metadata": {},
     "output_type": "execute_result"
    }
   ],
   "source": [
    "type 'a tree = Leaf | Node of 'a tree * 'a * 'a tree\n",
    "\n",
    "type traversal = Preorder | Inorder | Postorder\n",
    "\n",
    "let rec fold_tree f acc t order = \n",
    "    match t with \n",
    "    | Leaf -> acc\n",
    "    | Node(t1, v, t2) -> (match order with \n",
    "                         | Inorder -> fold_tree f (f (fold_tree f acc t1 order) v) t2 order\n",
    "                         | Preorder -> (fold_tree f (fold_tree f (f acc v) t1 order) t2 order)\n",
    "                         | Postorder -> (f (fold_tree f ((fold_tree f acc t1 order)) t2 order) v))"
   ]
  },
  {
   "cell_type": "code",
   "execution_count": 33,
   "metadata": {
    "deletable": false,
    "editable": false,
    "nbgrader": {
     "cell_type": "code",
     "checksum": "d92875d44dbbe45499cba0cdcf573136",
     "grade": true,
     "grade_id": "cell-8bd22519c4af64bb",
     "locked": true,
     "points": 15,
     "schema_version": 3,
     "solution": false
    }
   },
   "outputs": [
    {
     "data": {
      "text/plain": [
       "- : unit = ()\n"
      ]
     },
     "execution_count": 33,
     "metadata": {},
     "output_type": "execute_result"
    }
   ],
   "source": [
    "(* 15 points *)\n",
    "assert (fold_tree (fun acc x -> acc @ [x]) [] (Node (Node (Leaf,1,Leaf), 2, Node (Leaf,3,Leaf))) Inorder = [1;2;3]);\n",
    "assert (fold_tree (fun acc x -> acc @ [x]) [] (Node (Node (Leaf,1,Leaf), 2, Node (Leaf,3,Leaf))) Preorder = [2;1;3]);\n",
    "assert (fold_tree (fun acc x -> acc @ [x]) [] (Node (Node (Leaf,1,Leaf), 2, Node (Leaf,3,Leaf))) Postorder = [1;3;2])"
   ]
  }
 ],
 "metadata": {
  "kernelspec": {
   "display_name": "OCaml 4.10",
   "language": "OCaml",
   "name": "ocaml-jupyter"
  },
  "language_info": {
   "codemirror_mode": "text/x-ocaml",
   "file_extension": ".ml",
   "mimetype": "text/x-ocaml",
   "name": "OCaml",
   "nbconverter_exporter": null,
   "pygments_lexer": "OCaml",
   "version": "4.10.0"
  }
 },
 "nbformat": 4,
 "nbformat_minor": 2
}
